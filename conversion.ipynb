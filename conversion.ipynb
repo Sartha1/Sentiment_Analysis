{
 "cells": [
  {
   "cell_type": "code",
   "execution_count": 1,
   "id": "24fcbc35",
   "metadata": {},
   "outputs": [],
   "source": [
    "import pandas as pd"
   ]
  },
  {
   "cell_type": "code",
   "execution_count": 3,
   "id": "5842d625",
   "metadata": {},
   "outputs": [],
   "source": [
    "gatar = r'G:\\desktop files\\programs\\jupyter lab\\input\\Luxury_Beauty_sample.json'\n",
    "read_df = pd.read_json(gatar)"
   ]
  },
  {
   "cell_type": "code",
   "execution_count": 4,
   "id": "877a02f5",
   "metadata": {},
   "outputs": [],
   "source": [
    "csv_output =  r\"G:\\desktop files\\programs\\jupyter lab\\output\\Luxury_Beauty.csv\"\n",
    "out = read_df.to_csv(csv_output)"
   ]
  },
  {
   "cell_type": "code",
   "execution_count": null,
   "id": "fff5ac7d",
   "metadata": {},
   "outputs": [],
   "source": []
  }
 ],
 "metadata": {
  "kernelspec": {
   "display_name": "Python 3 (ipykernel)",
   "language": "python",
   "name": "python3"
  },
  "language_info": {
   "codemirror_mode": {
    "name": "ipython",
    "version": 3
   },
   "file_extension": ".py",
   "mimetype": "text/x-python",
   "name": "python",
   "nbconvert_exporter": "python",
   "pygments_lexer": "ipython3",
   "version": "3.10.9"
  }
 },
 "nbformat": 4,
 "nbformat_minor": 5
}
