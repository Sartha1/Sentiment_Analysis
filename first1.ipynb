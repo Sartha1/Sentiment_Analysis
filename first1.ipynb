{
 "cells": [
  {
   "cell_type": "markdown",
   "id": "ed28c01e-2dd3-43c6-aacf-0e7ecbfdab00",
   "metadata": {
    "tags": []
   },
   "source": [
    "## IMPORTING LIBRARIES"
   ]
  },
  {
   "cell_type": "code",
   "execution_count": 120,
   "id": "a7d96d6f-9114-4a99-98bc-14d0b4176004",
   "metadata": {},
   "outputs": [],
   "source": [
    "import numpy as np\n",
    "import pandas as pd\n",
    "import nltk\n",
    "# from nltk.tag import pos_tag\n",
    "# from nltk.tokenize import word_tokenize\n",
    "\n",
    "from vaderSentiment.vaderSentiment import SentimentIntensityAnalyzer\n",
    "import seaborn as sns\n",
    "import matplotlib.pyplot as plt\n",
    "import cufflinks as cf\n",
    "import warnings\n",
    "\n",
    "import plotly.graph_objs as go\n",
    "from plotly.subplots import make_subplots"
   ]
  },
  {
   "cell_type": "code",
   "execution_count": 104,
   "id": "4b8c071f-359c-4c59-8113-48b4ae9b982a",
   "metadata": {},
   "outputs": [
    {
     "data": {
      "text/html": [
       "        <script type=\"text/javascript\">\n",
       "        window.PlotlyConfig = {MathJaxConfig: 'local'};\n",
       "        if (window.MathJax && window.MathJax.Hub && window.MathJax.Hub.Config) {window.MathJax.Hub.Config({SVG: {font: \"STIX-Web\"}});}\n",
       "        if (typeof require !== 'undefined') {\n",
       "        require.undef(\"plotly\");\n",
       "        requirejs.config({\n",
       "            paths: {\n",
       "                'plotly': ['https://cdn.plot.ly/plotly-2.12.1.min']\n",
       "            }\n",
       "        });\n",
       "        require(['plotly'], function(Plotly) {\n",
       "            window._Plotly = Plotly;\n",
       "        });\n",
       "        }\n",
       "        </script>\n",
       "        "
      ]
     },
     "metadata": {},
     "output_type": "display_data"
    },
    {
     "data": {
      "text/html": [
       "        <script type=\"text/javascript\">\n",
       "        window.PlotlyConfig = {MathJaxConfig: 'local'};\n",
       "        if (window.MathJax && window.MathJax.Hub && window.MathJax.Hub.Config) {window.MathJax.Hub.Config({SVG: {font: \"STIX-Web\"}});}\n",
       "        if (typeof require !== 'undefined') {\n",
       "        require.undef(\"plotly\");\n",
       "        requirejs.config({\n",
       "            paths: {\n",
       "                'plotly': ['https://cdn.plot.ly/plotly-2.12.1.min']\n",
       "            }\n",
       "        });\n",
       "        require(['plotly'], function(Plotly) {\n",
       "            window._Plotly = Plotly;\n",
       "        });\n",
       "        }\n",
       "        </script>\n",
       "        "
      ]
     },
     "metadata": {},
     "output_type": "display_data"
    }
   ],
   "source": [
    "%matplotlib inline\n",
    "from plotly.offline import init_notebook_mode, iplot\n",
    "init_notebook_mode(connected = True)\n",
    "cf.go_offline();\n",
    "\n",
    "warnings.filterwarnings(\"ignore\")\n",
    "warnings.warn(\"this will not show\")\n",
    "\n",
    "pd.set_option('display.max_columns', None)"
   ]
  },
  {
   "cell_type": "markdown",
   "id": "cfe593dc-e341-4f7e-a384-200fd391f0b2",
   "metadata": {
    "tags": []
   },
   "source": [
    "## READ IN DATA (TRAINING DATA)"
   ]
  },
  {
   "cell_type": "code",
   "execution_count": 105,
   "id": "11e4ae42-c3d5-4864-9ab2-89ddf8e09c89",
   "metadata": {},
   "outputs": [],
   "source": [
    "df = pd.read_csv('Luxury_Beauty.csv')"
   ]
  },
  {
   "cell_type": "markdown",
   "id": "1423a2d5-ddb4-4b2d-bcdb-667b008109c7",
   "metadata": {
    "tags": []
   },
   "source": [
    "## GRAPH PLOTTING FOR RATINGS VS NUMBER OF ITEMS"
   ]
  },
  {
   "cell_type": "code",
   "execution_count": 106,
   "id": "5706bff6-7ebd-49c2-9000-0afdba34d08b",
   "metadata": {},
   "outputs": [
    {
     "data": {
      "image/png": "[encoded data removed]",
      "text/plain": [
       "<Figure size 1000x500 with 1 Axes>"
      ]
     },
     "metadata": {},
     "output_type": "display_data"
    }
   ],
   "source": [
    "df.head(1000)['overall'].value_counts()\n",
    "ax = df.head(1000)['overall'].value_counts().sort_index().plot(kind = 'bar', title = 'Count of Reviews by Stars', figsize = (10, 5))\n",
    "\n",
    "ax.set_xlabel('Review Stars')\n",
    "ax.set_ylabel('Number of items')\n",
    "plt.show()"
   ]
  },
  {
   "cell_type": "markdown",
   "id": "c91d1d12-3d97-4448-8e02-f89459994855",
   "metadata": {
    "jp-MarkdownHeadingCollapsed": true,
    "tags": []
   },
   "source": [
    "## BASIC NLTK"
   ]
  },
  {
   "cell_type": "code",
   "execution_count": 107,
   "id": "1636646c-fec0-41d7-add2-a4562c7875a7",
   "metadata": {},
   "outputs": [],
   "source": [
    "# example = df['summary'][5]\n",
    "# print(example)"
   ]
  },
  {
   "cell_type": "markdown",
   "id": "d8641b4f-0996-4625-ae72-38d5656d940b",
   "metadata": {
    "tags": []
   },
   "source": [
    "#### REQUIRED FOR TOKENIZATION (ONE TIME USE)"
   ]
  },
  {
   "cell_type": "code",
   "execution_count": 108,
   "id": "cdbd8c2e-7eb9-4ff1-97b9-671fbf9732be",
   "metadata": {},
   "outputs": [],
   "source": [
    "# nltk.download('punkt')"
   ]
  },
  {
   "cell_type": "markdown",
   "id": "b1caddef-4d6b-4dee-ab6a-fb7ef99ed522",
   "metadata": {},
   "source": [
    "#### REQUIRED FOR PARTS OF SPEECH TAGGING (ONE TIME USE)"
   ]
  },
  {
   "cell_type": "code",
   "execution_count": 109,
   "id": "8c8a7004-f077-4e3f-be1a-293678a904eb",
   "metadata": {},
   "outputs": [],
   "source": [
    "# nltk.download('averaged_perceptron_tagger')"
   ]
  },
  {
   "cell_type": "code",
   "execution_count": 110,
   "id": "48857234-92b5-4c45-92a4-9066a62daae2",
   "metadata": {},
   "outputs": [],
   "source": [
    "# hello = nltk.word_tokenize(example, \"english\", 50)\n",
    "# hello[:10]"
   ]
  },
  {
   "cell_type": "code",
   "execution_count": 111,
   "id": "eb3f917c-cf07-4931-ace2-57b66b68ca1d",
   "metadata": {},
   "outputs": [],
   "source": [
    "# tagged = nltk.tag.pos_tag(hello, None, \"eng\")\n",
    "# print(tagged,\"\\n\")\n",
    "# tagged[:10]"
   ]
  },
  {
   "cell_type": "markdown",
   "id": "56faea54-5842-43d4-a05f-51ab28d38f97",
   "metadata": {},
   "source": [
    "## VADER (Valence Aware Dictionary for Sentiment Reasoning)"
   ]
  },
  {
   "cell_type": "markdown",
   "id": "901b9723-7e64-4ed1-91e3-9258a4783069",
   "metadata": {},
   "source": [
    "#### We will use nltk's SentimentIntensityAnalyzer to get the neg/neu/pos (NEGATIVE/NEUTRAL/POSITIVE) scores of the sentence.\n",
    "\n",
    "#### This uses a 'Bag Of words (BOW)' approach:\n",
    "####   1. Stop words are removed (the, a, ummm, hmmm, etc..)\n",
    "####   2. Each word is scored and combined to a total score"
   ]
  },
  {
   "cell_type": "code",
   "execution_count": 112,
   "id": "1e1505a4-4ed9-4096-b545-b71ed60de744",
   "metadata": {},
   "outputs": [],
   "source": [
    "from nltk.sentiment import SentimentIntensityAnalyzer\n",
    "from tqdm import tqdm\n",
    "from pandas.core.reshape.merge import merge\n",
    "\n",
    "# nltk.download('vader_lexicon')"
   ]
  },
  {
   "cell_type": "markdown",
   "id": "f781e764-2be1-41d9-b28d-06421d00e22b",
   "metadata": {},
   "source": [
    "## STARTING OF SENTIMENT ANALYSIS"
   ]
  },
  {
   "cell_type": "markdown",
   "id": "9c97aecc-3018-4ce3-b67a-155ed090e6c9",
   "metadata": {},
   "source": [
    "### ANALYSIS OF USER DEFINED SENTENCE"
   ]
  },
  {
   "cell_type": "code",
   "execution_count": null,
   "id": "8fb0f5fa-7c87-43aa-b6db-4217cfc9b6b3",
   "metadata": {},
   "outputs": [
    {
     "name": "stdin",
     "output_type": "stream",
     "text": [
      "Enter a sentence:  good\n"
     ]
    }
   ],
   "source": [
    "sia = SentimentIntensityAnalyzer()\n",
    "\n",
    "# You need to first initialize an object of SentimentIntensityAnalyzer then call the method polarity_scores on that\n",
    "check = input(\"Enter a sentence: \")\n",
    "\n",
    "# print(sia.polarity_scores(check))\n",
    "result = sia.polarity_scores(check)"
   ]
  },
  {
   "cell_type": "code",
   "execution_count": 97,
   "id": "2b102b6b-7ee0-455c-a8d9-801cba6d7f4f",
   "metadata": {},
   "outputs": [
    {
     "name": "stdout",
     "output_type": "stream",
     "text": [
      "Sentiment Scores: {'neg': 0.0, 'neu': 0.0, 'pos': 1.0, 'compound': 0.4404}\n",
      "Max Sentiment is pos with score of 1.0\n"
     ]
    }
   ],
   "source": [
    "# Find the key with the maximum numeric value in the result dictionary\n",
    "max_key = max(result, key=result.get)\n",
    "\n",
    "print(\"Sentiment Scores:\", result)\n",
    "print(\"Max Sentiment is\", max_key, \"with score of\", result[max_key])"
   ]
  },
  {
   "cell_type": "markdown",
   "id": "5e43cb92-79b4-4fee-87ed-4e49c0dfb226",
   "metadata": {},
   "source": [
    "### ANALYSIS OF THE PROVIDED SENTENCE WITHIN THE CODE"
   ]
  },
  {
   "cell_type": "code",
   "execution_count": 98,
   "id": "c358a47a-43de-481f-950e-9b68597b5bde",
   "metadata": {},
   "outputs": [
    {
     "name": "stdout",
     "output_type": "stream",
     "text": [
      "{'neg': 0.648, 'neu': 0.352, 'pos': 0.0, 'compound': -0.5697}\n"
     ]
    }
   ],
   "source": [
    "sia = SentimentIntensityAnalyzer()\n",
    "\n",
    "# You need to first initialize an object of SentimentIntensityAnalyzer then call the method polarity_scores on that\n",
    "sentences = [\"I am very sad!\"]\n",
    "\n",
    "for sentence in sentences:\n",
    "    print(sia.polarity_scores(sentence))"
   ]
  },
  {
   "cell_type": "markdown",
   "id": "4b6e405e-5a8b-404e-8cc7-aaccc8ce0c2d",
   "metadata": {},
   "source": [
    "### Run the polarity score on the entire dataset"
   ]
  },
  {
   "cell_type": "code",
   "execution_count": 99,
   "id": "c2526d1b-c14b-42ee-8a66-48638fc18e69",
   "metadata": {},
   "outputs": [
    {
     "name": "stderr",
     "output_type": "stream",
     "text": [
      "100%|██████████| 1009/1009 [00:00<00:00, 2863.09it/s]\n"
     ]
    }
   ],
   "source": [
    "res = {}\n",
    "\n",
    "for i, row in tqdm(df.iterrows(), total=len(df)):\n",
    "    text = str(row['reviewText'])\n",
    "    myid = row['id']\n",
    "    res[myid] = sia.polarity_scores(text)"
   ]
  },
  {
   "cell_type": "markdown",
   "id": "e32727e0-6d4f-4faf-b218-18169503f6bf",
   "metadata": {},
   "source": [
    "### GETTING POSTIVE, NEUTRAL AND NEGATIVE RATINGS"
   ]
  },
  {
   "cell_type": "code",
   "execution_count": 100,
   "id": "2ebd32ac-9983-4b6a-9ddb-3d9290b52193",
   "metadata": {},
   "outputs": [],
   "source": [
    "barplotting = pd.DataFrame(res).T\n",
    "finalResult = pd.concat([barplotting, df], axis = 1)"
   ]
  },
  {
   "cell_type": "markdown",
   "id": "ada67b8d-1a94-4971-9d53-34dcedcd38f6",
   "metadata": {},
   "source": [
    "## BAR PLOT FOR COMPOUND REVIEWS"
   ]
  },
  {
   "cell_type": "code",
   "execution_count": 101,
   "id": "f10c5997-2ca2-4997-b5cd-e98981c69deb",
   "metadata": {},
   "outputs": [
    {
     "data": {
      "image/png": "[encoded data removed]",
      "text/plain": [
       "<Figure size 640x480 with 1 Axes>"
      ]
     },
     "metadata": {},
     "output_type": "display_data"
    }
   ],
   "source": [
    "ax = sns.barplot(data = finalResult, x = 'overall', y = 'compound')\n",
    "ax.set_xlabel('Review Stars')\n",
    "ax.set_ylabel('Review Scores')\n",
    "ax.set_title('Compound Score by Amazon Star Review')\n",
    "plt.show()"
   ]
  },
  {
   "cell_type": "markdown",
   "id": "90c78792-9301-4273-863f-6197638fcd52",
   "metadata": {},
   "source": [
    "## POSITIVE VS NEUTRAL VS NEGATIVE"
   ]
  },
  {
   "cell_type": "code",
   "execution_count": 102,
   "id": "ff35b2f8-1077-4b45-8de0-ea46c5c6dc1e",
   "metadata": {},
   "outputs": [
    {
     "data": {
      "image/png": "[encoded data removed]",
      "text/plain": [
       "<Figure size 1300x300 with 3 Axes>"
      ]
     },
     "metadata": {},
     "output_type": "display_data"
    }
   ],
   "source": [
    "fig, axs = plt.subplots(1, 3, figsize = (13, 3))\n",
    "sns.barplot(data = finalResult, x = 'overall', y='pos', ax=axs[0])\n",
    "sns.barplot(data = finalResult, x = 'overall', y='neu', ax=axs[1])\n",
    "sns.barplot(data = finalResult, x = 'overall', y='neg', ax=axs[2])\n",
    "\n",
    "axs[0].set_xlabel('Review Stars')\n",
    "axs[0].set_ylabel('Review Scores')\n",
    "\n",
    "axs[1].set_xlabel('Review Stars')\n",
    "axs[1].set_ylabel('Review Scores')\n",
    "\n",
    "axs[2].set_xlabel('Review Stars')\n",
    "axs[2].set_ylabel('Review Scores')\n",
    "\n",
    "axs[0].set_title('Positive Reviews')\n",
    "axs[1].set_title('Neutral Reviews')\n",
    "axs[2].set_title('Negative Reviews')\n",
    "\n",
    "plt.tight_layout(w_pad = 3, h_pad = 1.2)\n",
    "plt.show()"
   ]
  }
 ],
 "metadata": {
  "kernelspec": {
   "display_name": "Python 3 (ipykernel)",
   "language": "python",
   "name": "python3"
  },
  "language_info": {
   "codemirror_mode": {
    "name": "ipython",
    "version": 3
   },
   "file_extension": ".py",
   "mimetype": "text/x-python",
   "name": "python",
   "nbconvert_exporter": "python",
   "pygments_lexer": "ipython3",
   "version": "3.10.9"
  }
 },
 "nbformat": 4,
 "nbformat_minor": 5
}
